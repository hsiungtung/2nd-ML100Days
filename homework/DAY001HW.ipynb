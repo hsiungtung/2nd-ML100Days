{
 "cells": [
  {
   "cell_type": "markdown",
   "metadata": {},
   "source": [
    "作業1\n",
    "    1.你選的這組資料為何重要\n",
    "        ANS1.比較不同圖片分析辨別特徵\n",
    "    2.資料從何而來\n",
    "        ANS2.提供者:Aditya Khosla，Nityananda Jayadevaprakash，Bangpeng Yao和Li Fei-Fei。原始數據源位於Http://vision.stanford.edu/aditya86/ImageNetDogs/\n",
    "    3.蒐集的資料型態為何\n",
    "        ANS3.非結構化:圖像\n",
    "    4.這組資料想解決的問題\n",
    "        ANS4.從圖像中辨識正確犬種與年齡\n",
    "作業2\n",
    "    1.核心問題\n",
    "        ANS1.增加載客率,活化閒置車輛,客群地域分析,年齡層分析,廣告投放,增加使用者\n",
    "    2.資料從何而來\n",
    "        ANS2.建立手機APP並建立後台資料庫,分析使用者習慣\n",
    "    3.蒐集而來的資料型態為何\n",
    "        ANS3.結構化資料表格\n",
    "    4.你要回答的問題如何評估\n",
    "        ANS4.載客率提高,使用者增加,等月成長率提高可驗證績效        \n"
   ]
  },
  {
   "cell_type": "code",
   "execution_count": 2,
   "metadata": {},
   "outputs": [
    {
     "name": "stdout",
     "output_type": "stream",
     "text": [
      "417.3006119994701\n",
      "0.9452358526817111\n",
      "0.9295889534479143\n"
     ]
    }
   ],
   "source": [
    "import numpy as np\n",
    "from sklearn.linear_model import LinearRegression\n",
    "\n",
    "X = np.array([\n",
    "    [10, 80], [8, 0], [8, 200], [5, 200], [7, 300], [8, 230], [7, 40], [9, 0], [6, 330], [9, 180]\n",
    "])\n",
    "y = np.array([469, 366, 371, 208, 246, 297, 363, 436, 198, 364])\n",
    "\n",
    "lm = LinearRegression()\n",
    "lm.fit(X, y)\n",
    "\n",
    "# 模型績效\n",
    "mse = np.mean((lm.predict(X) - y) ** 2)\n",
    "r_squared = lm.score(X, y)\n",
    "adj_r_squared = r_squared - (1 - r_squared) * (X.shape[1] / (X.shape[0] - X.shape[1] - 1))\n",
    "\n",
    "# 印出模型績效\n",
    "print(mse)\n",
    "print(r_squared)\n",
    "print(adj_r_squared)"
   ]
  }
 ],
 "metadata": {
  "kernelspec": {
   "display_name": "Python 3",
   "language": "python",
   "name": "python3"
  },
  "language_info": {
   "codemirror_mode": {
    "name": "ipython",
    "version": 3
   },
   "file_extension": ".py",
   "mimetype": "text/x-python",
   "name": "python",
   "nbconvert_exporter": "python",
   "pygments_lexer": "ipython3",
   "version": "3.7.3"
  }
 },
 "nbformat": 4,
 "nbformat_minor": 2
}
